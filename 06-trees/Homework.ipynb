{
 "cells": [
  {
   "cell_type": "code",
   "execution_count": 2,
   "id": "54b3922e",
   "metadata": {},
   "outputs": [],
   "source": [
    "#Libraries\n",
    "\n",
    "import re\n",
    "import numpy as np\n",
    "import pandas as pd\n",
    "\n",
    "import matplotlib.pyplot as plt\n",
    "\n",
    "from sklearn.tree import DecisionTreeRegressor\n",
    "from sklearn.tree import export_text\n",
    "from sklearn.feature_extraction import DictVectorizer\n",
    "from sklearn.model_selection import train_test_split\n",
    "from sklearn.ensemble import RandomForestRegressor\n",
    "from sklearn.metrics import mean_squared_error\n",
    "import xgboost as xgb\n",
    "\n",
    "%matplotlib inline"
   ]
  },
  {
   "cell_type": "markdown",
   "id": "2f2abdb3",
   "metadata": {},
   "source": [
    "## Data"
   ]
  },
  {
   "cell_type": "code",
   "execution_count": 3,
   "id": "1e4aee76",
   "metadata": {},
   "outputs": [
    {
     "name": "stdout",
     "output_type": "stream",
     "text": [
      "--2022-10-17 19:38:23--  https://raw.githubusercontent.com/alexeygrigorev/datasets/master/housing.csv\n",
      "Resolving raw.githubusercontent.com (raw.githubusercontent.com)... 198.18.7.66\n",
      "Connecting to raw.githubusercontent.com (raw.githubusercontent.com)|198.18.7.66|:443... connected.\n",
      "HTTP request sent, awaiting response... 200 OK\n",
      "Length: 1423529 (1.4M) [text/plain]\n",
      "Saving to: ‘housing.csv’\n",
      "\n",
      "housing.csv         100%[===================>]   1.36M   161KB/s    in 8.7s    \n",
      "\n",
      "2022-10-17 19:38:34 (161 KB/s) - ‘housing.csv’ saved [1423529/1423529]\n",
      "\n"
     ]
    }
   ],
   "source": [
    "!wget https://raw.githubusercontent.com/alexeygrigorev/datasets/master/housing.csv"
   ]
  },
  {
   "cell_type": "code",
   "execution_count": 4,
   "id": "d2eda319",
   "metadata": {},
   "outputs": [
    {
     "data": {
      "text/html": [
       "<div>\n",
       "<style scoped>\n",
       "    .dataframe tbody tr th:only-of-type {\n",
       "        vertical-align: middle;\n",
       "    }\n",
       "\n",
       "    .dataframe tbody tr th {\n",
       "        vertical-align: top;\n",
       "    }\n",
       "\n",
       "    .dataframe thead th {\n",
       "        text-align: right;\n",
       "    }\n",
       "</style>\n",
       "<table border=\"1\" class=\"dataframe\">\n",
       "  <thead>\n",
       "    <tr style=\"text-align: right;\">\n",
       "      <th></th>\n",
       "      <th>longitude</th>\n",
       "      <th>latitude</th>\n",
       "      <th>housing_median_age</th>\n",
       "      <th>total_rooms</th>\n",
       "      <th>total_bedrooms</th>\n",
       "      <th>population</th>\n",
       "      <th>households</th>\n",
       "      <th>median_income</th>\n",
       "      <th>median_house_value</th>\n",
       "      <th>ocean_proximity</th>\n",
       "    </tr>\n",
       "  </thead>\n",
       "  <tbody>\n",
       "    <tr>\n",
       "      <th>0</th>\n",
       "      <td>-122.23</td>\n",
       "      <td>37.88</td>\n",
       "      <td>41.0</td>\n",
       "      <td>880.0</td>\n",
       "      <td>129.0</td>\n",
       "      <td>322.0</td>\n",
       "      <td>126.0</td>\n",
       "      <td>8.3252</td>\n",
       "      <td>452600.0</td>\n",
       "      <td>NEAR BAY</td>\n",
       "    </tr>\n",
       "    <tr>\n",
       "      <th>1</th>\n",
       "      <td>-122.22</td>\n",
       "      <td>37.86</td>\n",
       "      <td>21.0</td>\n",
       "      <td>7099.0</td>\n",
       "      <td>1106.0</td>\n",
       "      <td>2401.0</td>\n",
       "      <td>1138.0</td>\n",
       "      <td>8.3014</td>\n",
       "      <td>358500.0</td>\n",
       "      <td>NEAR BAY</td>\n",
       "    </tr>\n",
       "    <tr>\n",
       "      <th>2</th>\n",
       "      <td>-122.24</td>\n",
       "      <td>37.85</td>\n",
       "      <td>52.0</td>\n",
       "      <td>1467.0</td>\n",
       "      <td>190.0</td>\n",
       "      <td>496.0</td>\n",
       "      <td>177.0</td>\n",
       "      <td>7.2574</td>\n",
       "      <td>352100.0</td>\n",
       "      <td>NEAR BAY</td>\n",
       "    </tr>\n",
       "    <tr>\n",
       "      <th>3</th>\n",
       "      <td>-122.25</td>\n",
       "      <td>37.85</td>\n",
       "      <td>52.0</td>\n",
       "      <td>1274.0</td>\n",
       "      <td>235.0</td>\n",
       "      <td>558.0</td>\n",
       "      <td>219.0</td>\n",
       "      <td>5.6431</td>\n",
       "      <td>341300.0</td>\n",
       "      <td>NEAR BAY</td>\n",
       "    </tr>\n",
       "    <tr>\n",
       "      <th>4</th>\n",
       "      <td>-122.25</td>\n",
       "      <td>37.85</td>\n",
       "      <td>52.0</td>\n",
       "      <td>1627.0</td>\n",
       "      <td>280.0</td>\n",
       "      <td>565.0</td>\n",
       "      <td>259.0</td>\n",
       "      <td>3.8462</td>\n",
       "      <td>342200.0</td>\n",
       "      <td>NEAR BAY</td>\n",
       "    </tr>\n",
       "  </tbody>\n",
       "</table>\n",
       "</div>"
      ],
      "text/plain": [
       "   longitude  latitude  housing_median_age  total_rooms  total_bedrooms  \\\n",
       "0    -122.23     37.88                41.0        880.0           129.0   \n",
       "1    -122.22     37.86                21.0       7099.0          1106.0   \n",
       "2    -122.24     37.85                52.0       1467.0           190.0   \n",
       "3    -122.25     37.85                52.0       1274.0           235.0   \n",
       "4    -122.25     37.85                52.0       1627.0           280.0   \n",
       "\n",
       "   population  households  median_income  median_house_value ocean_proximity  \n",
       "0       322.0       126.0         8.3252            452600.0        NEAR BAY  \n",
       "1      2401.0      1138.0         8.3014            358500.0        NEAR BAY  \n",
       "2       496.0       177.0         7.2574            352100.0        NEAR BAY  \n",
       "3       558.0       219.0         5.6431            341300.0        NEAR BAY  \n",
       "4       565.0       259.0         3.8462            342200.0        NEAR BAY  "
      ]
     },
     "execution_count": 4,
     "metadata": {},
     "output_type": "execute_result"
    }
   ],
   "source": [
    "Cols= [\"longitude\", \"latitude\", \"housing_median_age\", \"total_rooms\", \"total_bedrooms\", \"population\", \"households\", \n",
    "       \"median_income\", \"median_house_value\", \"ocean_proximity\"]\n",
    "\n",
    "df= pd.read_csv('housing.csv', usecols= Cols)\n",
    "df.head()"
   ]
  },
  {
   "cell_type": "code",
   "execution_count": 5,
   "id": "9ef375de",
   "metadata": {},
   "outputs": [
    {
     "data": {
      "text/plain": [
       "longitude               0\n",
       "latitude                0\n",
       "housing_median_age      0\n",
       "total_rooms             0\n",
       "total_bedrooms        207\n",
       "population              0\n",
       "households              0\n",
       "median_income           0\n",
       "median_house_value      0\n",
       "ocean_proximity         0\n",
       "dtype: int64"
      ]
     },
     "execution_count": 5,
     "metadata": {},
     "output_type": "execute_result"
    }
   ],
   "source": [
    "# Fill NAs with 0\n",
    "df.isna().sum()"
   ]
  },
  {
   "cell_type": "code",
   "execution_count": 6,
   "id": "5498b999",
   "metadata": {},
   "outputs": [],
   "source": [
    "df['total_bedrooms']= df['total_bedrooms'].fillna(0)"
   ]
  },
  {
   "cell_type": "code",
   "execution_count": 8,
   "id": "7707ed7f",
   "metadata": {},
   "outputs": [],
   "source": [
    "# Apply the log tranform to median_house_value\n",
    "\n",
    "df['median_house_value']= np.log(df['median_house_value'])"
   ]
  },
  {
   "cell_type": "code",
   "execution_count": 9,
   "id": "15bc130b",
   "metadata": {},
   "outputs": [],
   "source": [
    "# Do train/validation/test split with 60%/20%/20% distribution\n",
    "# Use the train_test_split function and set the random_state parameter to 1.\n",
    "\n",
    "df_full_train, df_test = train_test_split(df, test_size=0.2, random_state=1)\n",
    "df_train, df_val = train_test_split(df_full_train, test_size=0.25, random_state=1)\n",
    "\n",
    "y_train = df_train.median_house_value.values\n",
    "y_test = df_test.median_house_value.values\n",
    "y_val = df_val.median_house_value.values\n",
    "\n",
    "del df_train['median_house_value']\n",
    "del df_test['median_house_value']\n",
    "del df_val['median_house_value']"
   ]
  },
  {
   "cell_type": "code",
   "execution_count": 10,
   "id": "52f32356",
   "metadata": {},
   "outputs": [],
   "source": [
    "# Use DictVectorizer to turn the dataframe into matrices\n",
    "\n",
    "dv = DictVectorizer(sparse=False)\n",
    "\n",
    "train_dicts = df_train.to_dict(orient='records')\n",
    "x_train = dv.fit_transform(train_dicts)\n",
    "\n",
    "val_dicts = df_val.to_dict(orient='records')\n",
    "x_val = dv.fit_transform(val_dicts)"
   ]
  },
  {
   "cell_type": "markdown",
   "id": "89060508",
   "metadata": {},
   "source": [
    "## Question 1"
   ]
  },
  {
   "cell_type": "markdown",
   "id": "4a88fcce",
   "metadata": {},
   "source": [
    "Let's train a decision tree regressor to predict the median_house_value variable.\n",
    "\n",
    "- Train a model with max_depth=1\n",
    "\n",
    "Which feature is used for splitting the data?"
   ]
  },
  {
   "cell_type": "code",
   "execution_count": 11,
   "id": "92b70879",
   "metadata": {},
   "outputs": [
    {
     "data": {
      "text/html": [
       "<style>#sk-container-id-1 {color: black;background-color: white;}#sk-container-id-1 pre{padding: 0;}#sk-container-id-1 div.sk-toggleable {background-color: white;}#sk-container-id-1 label.sk-toggleable__label {cursor: pointer;display: block;width: 100%;margin-bottom: 0;padding: 0.3em;box-sizing: border-box;text-align: center;}#sk-container-id-1 label.sk-toggleable__label-arrow:before {content: \"▸\";float: left;margin-right: 0.25em;color: #696969;}#sk-container-id-1 label.sk-toggleable__label-arrow:hover:before {color: black;}#sk-container-id-1 div.sk-estimator:hover label.sk-toggleable__label-arrow:before {color: black;}#sk-container-id-1 div.sk-toggleable__content {max-height: 0;max-width: 0;overflow: hidden;text-align: left;background-color: #f0f8ff;}#sk-container-id-1 div.sk-toggleable__content pre {margin: 0.2em;color: black;border-radius: 0.25em;background-color: #f0f8ff;}#sk-container-id-1 input.sk-toggleable__control:checked~div.sk-toggleable__content {max-height: 200px;max-width: 100%;overflow: auto;}#sk-container-id-1 input.sk-toggleable__control:checked~label.sk-toggleable__label-arrow:before {content: \"▾\";}#sk-container-id-1 div.sk-estimator input.sk-toggleable__control:checked~label.sk-toggleable__label {background-color: #d4ebff;}#sk-container-id-1 div.sk-label input.sk-toggleable__control:checked~label.sk-toggleable__label {background-color: #d4ebff;}#sk-container-id-1 input.sk-hidden--visually {border: 0;clip: rect(1px 1px 1px 1px);clip: rect(1px, 1px, 1px, 1px);height: 1px;margin: -1px;overflow: hidden;padding: 0;position: absolute;width: 1px;}#sk-container-id-1 div.sk-estimator {font-family: monospace;background-color: #f0f8ff;border: 1px dotted black;border-radius: 0.25em;box-sizing: border-box;margin-bottom: 0.5em;}#sk-container-id-1 div.sk-estimator:hover {background-color: #d4ebff;}#sk-container-id-1 div.sk-parallel-item::after {content: \"\";width: 100%;border-bottom: 1px solid gray;flex-grow: 1;}#sk-container-id-1 div.sk-label:hover label.sk-toggleable__label {background-color: #d4ebff;}#sk-container-id-1 div.sk-serial::before {content: \"\";position: absolute;border-left: 1px solid gray;box-sizing: border-box;top: 0;bottom: 0;left: 50%;z-index: 0;}#sk-container-id-1 div.sk-serial {display: flex;flex-direction: column;align-items: center;background-color: white;padding-right: 0.2em;padding-left: 0.2em;position: relative;}#sk-container-id-1 div.sk-item {position: relative;z-index: 1;}#sk-container-id-1 div.sk-parallel {display: flex;align-items: stretch;justify-content: center;background-color: white;position: relative;}#sk-container-id-1 div.sk-item::before, #sk-container-id-1 div.sk-parallel-item::before {content: \"\";position: absolute;border-left: 1px solid gray;box-sizing: border-box;top: 0;bottom: 0;left: 50%;z-index: -1;}#sk-container-id-1 div.sk-parallel-item {display: flex;flex-direction: column;z-index: 1;position: relative;background-color: white;}#sk-container-id-1 div.sk-parallel-item:first-child::after {align-self: flex-end;width: 50%;}#sk-container-id-1 div.sk-parallel-item:last-child::after {align-self: flex-start;width: 50%;}#sk-container-id-1 div.sk-parallel-item:only-child::after {width: 0;}#sk-container-id-1 div.sk-dashed-wrapped {border: 1px dashed gray;margin: 0 0.4em 0.5em 0.4em;box-sizing: border-box;padding-bottom: 0.4em;background-color: white;}#sk-container-id-1 div.sk-label label {font-family: monospace;font-weight: bold;display: inline-block;line-height: 1.2em;}#sk-container-id-1 div.sk-label-container {text-align: center;}#sk-container-id-1 div.sk-container {/* jupyter's `normalize.less` sets `[hidden] { display: none; }` but bootstrap.min.css set `[hidden] { display: none !important; }` so we also need the `!important` here to be able to override the default hidden behavior on the sphinx rendered scikit-learn.org. See: https://github.com/scikit-learn/scikit-learn/issues/21755 */display: inline-block !important;position: relative;}#sk-container-id-1 div.sk-text-repr-fallback {display: none;}</style><div id=\"sk-container-id-1\" class=\"sk-top-container\"><div class=\"sk-text-repr-fallback\"><pre>DecisionTreeRegressor(max_depth=1)</pre><b>In a Jupyter environment, please rerun this cell to show the HTML representation or trust the notebook. <br />On GitHub, the HTML representation is unable to render, please try loading this page with nbviewer.org.</b></div><div class=\"sk-container\" hidden><div class=\"sk-item\"><div class=\"sk-estimator sk-toggleable\"><input class=\"sk-toggleable__control sk-hidden--visually\" id=\"sk-estimator-id-1\" type=\"checkbox\" checked><label for=\"sk-estimator-id-1\" class=\"sk-toggleable__label sk-toggleable__label-arrow\">DecisionTreeRegressor</label><div class=\"sk-toggleable__content\"><pre>DecisionTreeRegressor(max_depth=1)</pre></div></div></div></div></div>"
      ],
      "text/plain": [
       "DecisionTreeRegressor(max_depth=1)"
      ]
     },
     "execution_count": 11,
     "metadata": {},
     "output_type": "execute_result"
    }
   ],
   "source": [
    "#Train the model\n",
    "\n",
    "model_dt = DecisionTreeRegressor(max_depth=1)\n",
    "model_dt.fit(x_train, y_train)"
   ]
  },
  {
   "cell_type": "code",
   "execution_count": 12,
   "id": "337bff1a",
   "metadata": {},
   "outputs": [
    {
     "name": "stdout",
     "output_type": "stream",
     "text": [
      "|--- ocean_proximity=INLAND <= 0.50\n",
      "|   |--- value: [12.31]\n",
      "|--- ocean_proximity=INLAND >  0.50\n",
      "|   |--- value: [11.61]\n",
      "\n"
     ]
    },
    {
     "name": "stderr",
     "output_type": "stream",
     "text": [
      "/home/ariahadid/.local/share/virtualenvs/churn-flask-app-GXXnzVri/lib/python3.10/site-packages/sklearn/utils/deprecation.py:87: FutureWarning: Function get_feature_names is deprecated; get_feature_names is deprecated in 1.0 and will be removed in 1.2. Please use get_feature_names_out instead.\n",
      "  warnings.warn(msg, category=FutureWarning)\n"
     ]
    }
   ],
   "source": [
    "print(export_text(model_dt, feature_names=dv.get_feature_names()))"
   ]
  },
  {
   "cell_type": "markdown",
   "id": "1cb706c5",
   "metadata": {},
   "source": [
    "> Answer: ocean_proximity"
   ]
  },
  {
   "cell_type": "markdown",
   "id": "3cb32e6b",
   "metadata": {},
   "source": [
    "## Question 2"
   ]
  },
  {
   "cell_type": "markdown",
   "id": "e0eaf34a",
   "metadata": {},
   "source": [
    "Train a random forest model with these parameters:\n",
    "\n",
    "- n_estimators=10\n",
    "- random_state=1\n",
    "- n_jobs=-1 (optional - to make training faster)\n",
    "\n",
    "What's the RMSE of this model on validation?"
   ]
  },
  {
   "cell_type": "code",
   "execution_count": 16,
   "id": "b0a07b09",
   "metadata": {},
   "outputs": [],
   "source": [
    "# Train the model\n",
    "\n",
    "model_rf = RandomForestRegressor(n_estimators=10, random_state=1, n_jobs=-1)\n",
    "model_rf.fit(x_train, y_train)\n",
    "y_pred = model_rf.predict(x_val)"
   ]
  },
  {
   "cell_type": "code",
   "execution_count": 27,
   "id": "d0d3e392",
   "metadata": {},
   "outputs": [
    {
     "name": "stdout",
     "output_type": "stream",
     "text": [
      "RMSE = 0.2453508692239376\n"
     ]
    }
   ],
   "source": [
    "print(f\"RMSE = {mean_squared_error(y_val,y_pred,squared=False)}\")"
   ]
  },
  {
   "cell_type": "markdown",
   "id": "c3d9b19a",
   "metadata": {},
   "source": [
    "## Question 3"
   ]
  },
  {
   "cell_type": "markdown",
   "id": "c2fd86fd",
   "metadata": {},
   "source": [
    "Now let's experiment with the n_estimators parameter\n",
    "\n",
    "- Try different values of this parameter from 10 to 200 with step 10.\n",
    "- Set random_state to 1.\n",
    "- Evaluate the model on the validation dataset.\n",
    "\n",
    "After which value of n_estimators does RMSE stop improving?"
   ]
  },
  {
   "cell_type": "code",
   "execution_count": 28,
   "id": "1db7b778",
   "metadata": {},
   "outputs": [
    {
     "name": "stdout",
     "output_type": "stream",
     "text": [
      "RMSE for n_estimator :10 = 0.24535086922393762\n",
      "RMSE for n_estimator :20 = 0.23896578156353054\n",
      "RMSE for n_estimator :30 = 0.2353358017117479\n",
      "RMSE for n_estimator :40 = 0.23449118937187777\n",
      "RMSE for n_estimator :50 = 0.23301531944286358\n",
      "RMSE for n_estimator :60 = 0.23267986818198144\n",
      "RMSE for n_estimator :70 = 0.2321928944574038\n",
      "RMSE for n_estimator :80 = 0.23223073917189815\n",
      "RMSE for n_estimator :90 = 0.23194861917758272\n",
      "RMSE for n_estimator :100 = 0.231821021330001\n",
      "RMSE for n_estimator :110 = 0.23162112873512114\n",
      "RMSE for n_estimator :120 = 0.23168895040062046\n",
      "RMSE for n_estimator :130 = 0.23174053318575405\n",
      "RMSE for n_estimator :140 = 0.23164803817121402\n",
      "RMSE for n_estimator :150 = 0.23158266014959872\n",
      "RMSE for n_estimator :160 = 0.2315713768887062\n",
      "RMSE for n_estimator :170 = 0.23150498712414813\n",
      "RMSE for n_estimator :180 = 0.2316523136443702\n",
      "RMSE for n_estimator :190 = 0.23167369683681663\n"
     ]
    }
   ],
   "source": [
    "for estimator in range(10,200,10):\n",
    "    rf = RandomForestRegressor(n_estimators=estimator,\n",
    "                           random_state=1,\n",
    "                           n_jobs=-1)\n",
    "    rf.fit(x_train,y_train)\n",
    "    y_pred = rf.predict(x_val)\n",
    "    print(f\"RMSE for n_estimator :{estimator} = {mean_squared_error(y_pred,y_val,squared=False)}\")\n",
    "    "
   ]
  },
  {
   "cell_type": "markdown",
   "id": "5dae69b9",
   "metadata": {},
   "source": [
    "> Answer: 70"
   ]
  },
  {
   "cell_type": "markdown",
   "id": "2b3dbacd",
   "metadata": {},
   "source": [
    "## Question 4\n",
    "\n",
    "Let's select the best max_depth:\n",
    "\n",
    "- Try different values of max_depth: [10, 15, 20, 25]\n",
    "- For each of these values, try different values of n_estimators from 10 till 200 (with step 10)\n",
    "- Fix the random seed: random_state=1\n",
    "\n",
    "What's the best max_depth:"
   ]
  },
  {
   "cell_type": "code",
   "execution_count": 29,
   "id": "d17460af",
   "metadata": {},
   "outputs": [
    {
     "name": "stdout",
     "output_type": "stream",
     "text": [
      "RMSE for max_depth: 10 n_estimator :10 = 0.2554911759266139\n",
      "RMSE for max_depth: 10 n_estimator :20 = 0.25300113090751236\n",
      "RMSE for max_depth: 10 n_estimator :30 = 0.25168021588200007\n",
      "RMSE for max_depth: 10 n_estimator :40 = 0.2512530139520995\n",
      "RMSE for max_depth: 10 n_estimator :50 = 0.25024947550041304\n",
      "RMSE for max_depth: 10 n_estimator :60 = 0.2500771240628939\n",
      "RMSE for max_depth: 10 n_estimator :70 = 0.24986804072010943\n",
      "RMSE for max_depth: 10 n_estimator :80 = 0.24962467370423588\n",
      "RMSE for max_depth: 10 n_estimator :90 = 0.24932451551922594\n",
      "RMSE for max_depth: 10 n_estimator :100 = 0.24917016145820817\n",
      "RMSE for max_depth: 10 n_estimator :110 = 0.24894449427832607\n",
      "RMSE for max_depth: 10 n_estimator :120 = 0.24900137382597368\n",
      "RMSE for max_depth: 10 n_estimator :130 = 0.24910848119745221\n",
      "RMSE for max_depth: 10 n_estimator :140 = 0.2492417239421551\n",
      "RMSE for max_depth: 10 n_estimator :150 = 0.24925896377061396\n",
      "RMSE for max_depth: 10 n_estimator :160 = 0.2492049104925295\n",
      "RMSE for max_depth: 10 n_estimator :170 = 0.2490074533053919\n",
      "RMSE for max_depth: 10 n_estimator :180 = 0.24907941936731368\n",
      "RMSE for max_depth: 10 n_estimator :190 = 0.24909773383008021\n",
      "RMSE for max_depth: 15 n_estimator :10 = 0.24551197171380315\n",
      "RMSE for max_depth: 15 n_estimator :20 = 0.23979147409966242\n",
      "RMSE for max_depth: 15 n_estimator :30 = 0.2376198803915818\n",
      "RMSE for max_depth: 15 n_estimator :40 = 0.23656729936990084\n",
      "RMSE for max_depth: 15 n_estimator :50 = 0.23523880068363998\n",
      "RMSE for max_depth: 15 n_estimator :60 = 0.23519076018967316\n",
      "RMSE for max_depth: 15 n_estimator :70 = 0.23440847934749634\n",
      "RMSE for max_depth: 15 n_estimator :80 = 0.2342392009492701\n",
      "RMSE for max_depth: 15 n_estimator :90 = 0.2339954800652653\n",
      "RMSE for max_depth: 15 n_estimator :100 = 0.2337485173713478\n",
      "RMSE for max_depth: 15 n_estimator :110 = 0.23350147731629967\n",
      "RMSE for max_depth: 15 n_estimator :120 = 0.23360133225439006\n",
      "RMSE for max_depth: 15 n_estimator :130 = 0.23362356125383568\n",
      "RMSE for max_depth: 15 n_estimator :140 = 0.23350349261718395\n",
      "RMSE for max_depth: 15 n_estimator :150 = 0.233379933240432\n",
      "RMSE for max_depth: 15 n_estimator :160 = 0.23332670071583161\n",
      "RMSE for max_depth: 15 n_estimator :170 = 0.2332884563476844\n",
      "RMSE for max_depth: 15 n_estimator :180 = 0.23343260319576872\n",
      "RMSE for max_depth: 15 n_estimator :190 = 0.23344830321224713\n",
      "RMSE for max_depth: 20 n_estimator :10 = 0.24625914065143542\n",
      "RMSE for max_depth: 20 n_estimator :20 = 0.23879719226137391\n",
      "RMSE for max_depth: 20 n_estimator :30 = 0.2355717866062817\n",
      "RMSE for max_depth: 20 n_estimator :40 = 0.23456999118969138\n",
      "RMSE for max_depth: 20 n_estimator :50 = 0.23321763623621244\n",
      "RMSE for max_depth: 20 n_estimator :60 = 0.23308247817875152\n",
      "RMSE for max_depth: 20 n_estimator :70 = 0.23252882270884706\n",
      "RMSE for max_depth: 20 n_estimator :80 = 0.23253041348001738\n",
      "RMSE for max_depth: 20 n_estimator :90 = 0.2323088061576996\n",
      "RMSE for max_depth: 20 n_estimator :100 = 0.23206485255831272\n",
      "RMSE for max_depth: 20 n_estimator :110 = 0.23177966427226196\n",
      "RMSE for max_depth: 20 n_estimator :120 = 0.2317318086967135\n",
      "RMSE for max_depth: 20 n_estimator :130 = 0.23187540266681608\n",
      "RMSE for max_depth: 20 n_estimator :140 = 0.23173261172580947\n",
      "RMSE for max_depth: 20 n_estimator :150 = 0.23173134183158742\n",
      "RMSE for max_depth: 20 n_estimator :160 = 0.23176518319111034\n",
      "RMSE for max_depth: 20 n_estimator :170 = 0.2317393309570486\n",
      "RMSE for max_depth: 20 n_estimator :180 = 0.23193208436828314\n",
      "RMSE for max_depth: 20 n_estimator :190 = 0.23192630544056064\n",
      "RMSE for max_depth: 25 n_estimator :10 = 0.24520604820255545\n",
      "RMSE for max_depth: 25 n_estimator :20 = 0.23870498935442827\n",
      "RMSE for max_depth: 25 n_estimator :30 = 0.23536654366295862\n",
      "RMSE for max_depth: 25 n_estimator :40 = 0.23485587360373894\n",
      "RMSE for max_depth: 25 n_estimator :50 = 0.2332906183257154\n",
      "RMSE for max_depth: 25 n_estimator :60 = 0.23325233609360502\n",
      "RMSE for max_depth: 25 n_estimator :70 = 0.23266204184640846\n",
      "RMSE for max_depth: 25 n_estimator :80 = 0.23259496751511993\n",
      "RMSE for max_depth: 25 n_estimator :90 = 0.2324281343673124\n",
      "RMSE for max_depth: 25 n_estimator :100 = 0.23219401928557196\n",
      "RMSE for max_depth: 25 n_estimator :110 = 0.23177860725119037\n",
      "RMSE for max_depth: 25 n_estimator :120 = 0.23179236245244952\n",
      "RMSE for max_depth: 25 n_estimator :130 = 0.23190827641865297\n",
      "RMSE for max_depth: 25 n_estimator :140 = 0.2318201456997283\n",
      "RMSE for max_depth: 25 n_estimator :150 = 0.23175486979744822\n",
      "RMSE for max_depth: 25 n_estimator :160 = 0.23173667952188035\n",
      "RMSE for max_depth: 25 n_estimator :170 = 0.23167494883070366\n",
      "RMSE for max_depth: 25 n_estimator :180 = 0.23184661896259764\n",
      "RMSE for max_depth: 25 n_estimator :190 = 0.2317873411992979\n"
     ]
    }
   ],
   "source": [
    "for depth  in [10,15,20,25]:   \n",
    "    for estimator in range(10,200,10):\n",
    "        rf = RandomForestRegressor(max_depth=depth,\n",
    "                                     n_estimators=estimator,\n",
    "                                    random_state=1,\n",
    "                                    n_jobs=-1)\n",
    "        rf.fit(x_train,y_train)\n",
    "        y_pred = rf.predict(x_val)\n",
    "        print(f\"RMSE for max_depth: {depth} n_estimator :{estimator} = {mean_squared_error(y_pred,y_val,squared=False)}\")"
   ]
  },
  {
   "cell_type": "markdown",
   "id": "c375c7d9",
   "metadata": {},
   "source": [
    "> Answer: 20"
   ]
  },
  {
   "cell_type": "markdown",
   "id": "584e1bdd",
   "metadata": {},
   "source": [
    "## Question 5\n",
    "\n",
    "We can extract feature importance information from tree-based models.\n",
    "\n",
    "At each step of the decision tree learning algorith, it finds the best split. When doint it, we can calculate \"gain\" - the reduction in impurity before and after the split. This gain is quite useful in understanding what are the imporatant features for tree-based models.\n",
    "\n",
    "In Scikit-Learn, tree-based models contain this information in the feature_importances_ field.\n",
    "\n",
    "Train the model with these parametes:\n",
    "- n_estimators=10,\n",
    "- max_depth=20,\n",
    "- random_state=1,\n",
    "- n_jobs=-1 (optional)\n",
    "\n",
    "What's the most important feature?"
   ]
  },
  {
   "cell_type": "code",
   "execution_count": 30,
   "id": "ebbbaf0a",
   "metadata": {},
   "outputs": [
    {
     "data": {
      "text/html": [
       "<style>#sk-container-id-2 {color: black;background-color: white;}#sk-container-id-2 pre{padding: 0;}#sk-container-id-2 div.sk-toggleable {background-color: white;}#sk-container-id-2 label.sk-toggleable__label {cursor: pointer;display: block;width: 100%;margin-bottom: 0;padding: 0.3em;box-sizing: border-box;text-align: center;}#sk-container-id-2 label.sk-toggleable__label-arrow:before {content: \"▸\";float: left;margin-right: 0.25em;color: #696969;}#sk-container-id-2 label.sk-toggleable__label-arrow:hover:before {color: black;}#sk-container-id-2 div.sk-estimator:hover label.sk-toggleable__label-arrow:before {color: black;}#sk-container-id-2 div.sk-toggleable__content {max-height: 0;max-width: 0;overflow: hidden;text-align: left;background-color: #f0f8ff;}#sk-container-id-2 div.sk-toggleable__content pre {margin: 0.2em;color: black;border-radius: 0.25em;background-color: #f0f8ff;}#sk-container-id-2 input.sk-toggleable__control:checked~div.sk-toggleable__content {max-height: 200px;max-width: 100%;overflow: auto;}#sk-container-id-2 input.sk-toggleable__control:checked~label.sk-toggleable__label-arrow:before {content: \"▾\";}#sk-container-id-2 div.sk-estimator input.sk-toggleable__control:checked~label.sk-toggleable__label {background-color: #d4ebff;}#sk-container-id-2 div.sk-label input.sk-toggleable__control:checked~label.sk-toggleable__label {background-color: #d4ebff;}#sk-container-id-2 input.sk-hidden--visually {border: 0;clip: rect(1px 1px 1px 1px);clip: rect(1px, 1px, 1px, 1px);height: 1px;margin: -1px;overflow: hidden;padding: 0;position: absolute;width: 1px;}#sk-container-id-2 div.sk-estimator {font-family: monospace;background-color: #f0f8ff;border: 1px dotted black;border-radius: 0.25em;box-sizing: border-box;margin-bottom: 0.5em;}#sk-container-id-2 div.sk-estimator:hover {background-color: #d4ebff;}#sk-container-id-2 div.sk-parallel-item::after {content: \"\";width: 100%;border-bottom: 1px solid gray;flex-grow: 1;}#sk-container-id-2 div.sk-label:hover label.sk-toggleable__label {background-color: #d4ebff;}#sk-container-id-2 div.sk-serial::before {content: \"\";position: absolute;border-left: 1px solid gray;box-sizing: border-box;top: 0;bottom: 0;left: 50%;z-index: 0;}#sk-container-id-2 div.sk-serial {display: flex;flex-direction: column;align-items: center;background-color: white;padding-right: 0.2em;padding-left: 0.2em;position: relative;}#sk-container-id-2 div.sk-item {position: relative;z-index: 1;}#sk-container-id-2 div.sk-parallel {display: flex;align-items: stretch;justify-content: center;background-color: white;position: relative;}#sk-container-id-2 div.sk-item::before, #sk-container-id-2 div.sk-parallel-item::before {content: \"\";position: absolute;border-left: 1px solid gray;box-sizing: border-box;top: 0;bottom: 0;left: 50%;z-index: -1;}#sk-container-id-2 div.sk-parallel-item {display: flex;flex-direction: column;z-index: 1;position: relative;background-color: white;}#sk-container-id-2 div.sk-parallel-item:first-child::after {align-self: flex-end;width: 50%;}#sk-container-id-2 div.sk-parallel-item:last-child::after {align-self: flex-start;width: 50%;}#sk-container-id-2 div.sk-parallel-item:only-child::after {width: 0;}#sk-container-id-2 div.sk-dashed-wrapped {border: 1px dashed gray;margin: 0 0.4em 0.5em 0.4em;box-sizing: border-box;padding-bottom: 0.4em;background-color: white;}#sk-container-id-2 div.sk-label label {font-family: monospace;font-weight: bold;display: inline-block;line-height: 1.2em;}#sk-container-id-2 div.sk-label-container {text-align: center;}#sk-container-id-2 div.sk-container {/* jupyter's `normalize.less` sets `[hidden] { display: none; }` but bootstrap.min.css set `[hidden] { display: none !important; }` so we also need the `!important` here to be able to override the default hidden behavior on the sphinx rendered scikit-learn.org. See: https://github.com/scikit-learn/scikit-learn/issues/21755 */display: inline-block !important;position: relative;}#sk-container-id-2 div.sk-text-repr-fallback {display: none;}</style><div id=\"sk-container-id-2\" class=\"sk-top-container\"><div class=\"sk-text-repr-fallback\"><pre>RandomForestRegressor(max_depth=20, n_estimators=10, n_jobs=-1, random_state=1)</pre><b>In a Jupyter environment, please rerun this cell to show the HTML representation or trust the notebook. <br />On GitHub, the HTML representation is unable to render, please try loading this page with nbviewer.org.</b></div><div class=\"sk-container\" hidden><div class=\"sk-item\"><div class=\"sk-estimator sk-toggleable\"><input class=\"sk-toggleable__control sk-hidden--visually\" id=\"sk-estimator-id-2\" type=\"checkbox\" checked><label for=\"sk-estimator-id-2\" class=\"sk-toggleable__label sk-toggleable__label-arrow\">RandomForestRegressor</label><div class=\"sk-toggleable__content\"><pre>RandomForestRegressor(max_depth=20, n_estimators=10, n_jobs=-1, random_state=1)</pre></div></div></div></div></div>"
      ],
      "text/plain": [
       "RandomForestRegressor(max_depth=20, n_estimators=10, n_jobs=-1, random_state=1)"
      ]
     },
     "execution_count": 30,
     "metadata": {},
     "output_type": "execute_result"
    }
   ],
   "source": [
    "# Train the model\n",
    "\n",
    "model_rf = RandomForestRegressor(n_estimators=10,max_depth=20, n_jobs=-1, random_state=1)\n",
    "model_rf.fit(x_train, y_train)"
   ]
  },
  {
   "cell_type": "code",
   "execution_count": 36,
   "id": "d7be3cc4",
   "metadata": {},
   "outputs": [
    {
     "data": {
      "text/plain": [
       "<AxesSubplot: >"
      ]
     },
     "execution_count": 36,
     "metadata": {},
     "output_type": "execute_result"
    },
    {
     "data": {
      "image/png": "[encoded data removed]",
      "text/plain": [
       "<Figure size 640x480 with 1 Axes>"
      ]
     },
     "metadata": {},
     "output_type": "display_data"
    }
   ],
   "source": [
    "feats = {} # a dict to hold feature_name: feature_importance\n",
    "for feature, importance in zip(df_train.columns, model_rf.feature_importances_):\n",
    "    feats[feature] = importance #add the name/value pair \n",
    "\n",
    "importances = pd.DataFrame.from_dict(feats, orient='index').rename(columns={0: 'Gini-importance'})\n",
    "importances.sort_values(by='Gini-importance').plot(kind='bar', rot=45)\n"
   ]
  },
  {
   "cell_type": "markdown",
   "id": "1d7a1871",
   "metadata": {},
   "source": [
    "> Answer: total_bedrooms"
   ]
  },
  {
   "cell_type": "markdown",
   "id": "eea6c1f2",
   "metadata": {},
   "source": [
    "## Question 6\n",
    "\n",
    "Now let's train an XGBoost model! For this question, we'll tune the eta parameter:\n",
    "\n",
    "- Install XGBoost\n",
    "- Create DMatrix for train and validation\n",
    "- Create a watchlist\n",
    "- Train a model with these parameters for 100 rounds:"
   ]
  },
  {
   "cell_type": "markdown",
   "id": "5b3b4f63",
   "metadata": {},
   "source": [
    "> xgb_params = {\n",
    "    'eta': 0.3, \n",
    "    'max_depth': 6,\n",
    "    'min_child_weight': 1,\n",
    "    'objective': 'reg:squarederror',\n",
    "    'nthread': 8,\n",
    "    'seed': 1,\n",
    "    'verbosity': 1,\n",
    "}"
   ]
  },
  {
   "cell_type": "markdown",
   "id": "6dcaed8f",
   "metadata": {},
   "source": [
    "Now change eta from 0.3 to 0.1.\n",
    "\n",
    "Which eta leads to the best RMSE score on the validation dataset?"
   ]
  },
  {
   "cell_type": "code",
   "execution_count": 49,
   "id": "05be3a86",
   "metadata": {},
   "outputs": [
    {
     "name": "stdout",
     "output_type": "stream",
     "text": [
      "RMSE :  0.227837\n"
     ]
    }
   ],
   "source": [
    "features = dv.feature_names_\n",
    "\n",
    "regex = re.compile(r\"<\", re.IGNORECASE)\n",
    "features = [regex.sub(\"_\", col) if any(x in str(col) for x in set(('[', ']', '<'))) else col for col in features]\n",
    "\n",
    "dtrain = xgb.DMatrix(x_train, label=y_train, feature_names=features)\n",
    "dval = xgb.DMatrix(x_val, label=y_val, feature_names=features)\n",
    "# Parameter dictionary specifying base learner\n",
    "param =  {  \n",
    "    'eta': 0.3,  \n",
    "    'max_depth': 6,  \n",
    "    'min_child_weight': 1,  \n",
    "\n",
    "    'objective': 'reg:squarederror',\n",
    "    'nthread': 8,\n",
    "\n",
    "    'seed': 1,\n",
    "    'verbosity': 1,\n",
    "}\n",
    "  \n",
    "xgb_r = xgb.train(params = param, dtrain = dtrain, num_boost_round = 100)\n",
    "pred = xgb_r.predict(dval)\n",
    "  \n",
    "# RMSE Computation\n",
    "rmse = mean_squared_error(pred,y_val,squared=False)\n",
    "print(\"RMSE : % f\" %(rmse))"
   ]
  },
  {
   "cell_type": "code",
   "execution_count": 46,
   "id": "ba0a80f4",
   "metadata": {},
   "outputs": [
    {
     "data": {
      "text/plain": [
       "['households',\n",
       " 'housing_median_age',\n",
       " 'latitude',\n",
       " 'longitude',\n",
       " 'median_income',\n",
       " 'ocean_proximity=_1H OCEAN',\n",
       " 'ocean_proximity=INLAND',\n",
       " 'ocean_proximity=ISLAND',\n",
       " 'ocean_proximity=NEAR BAY',\n",
       " 'ocean_proximity=NEAR OCEAN',\n",
       " 'population',\n",
       " 'total_bedrooms',\n",
       " 'total_rooms']"
      ]
     },
     "execution_count": 46,
     "metadata": {},
     "output_type": "execute_result"
    }
   ],
   "source": [
    "features"
   ]
  },
  {
   "cell_type": "code",
   "execution_count": 50,
   "id": "fdf4c159",
   "metadata": {},
   "outputs": [
    {
     "name": "stdout",
     "output_type": "stream",
     "text": [
      "RMSE :  0.232453\n"
     ]
    }
   ],
   "source": [
    "# Parameter dictionary specifying base learner\n",
    "param =  {  \n",
    "    'eta': 0.1,  \n",
    "    'max_depth': 6,  \n",
    "    'min_child_weight': 1,  \n",
    "\n",
    "    'objective': 'reg:squarederror',\n",
    "    'nthread': 8,\n",
    "\n",
    "    'seed': 1,\n",
    "    'verbosity': 1,\n",
    "}\n",
    "  \n",
    "xgb_r = xgb.train(params = param, dtrain = dtrain, num_boost_round = 100)\n",
    "pred = xgb_r.predict(dval)\n",
    "  \n",
    "# RMSE Computation\n",
    "rmse = mean_squared_error(pred,y_val,squared=False)\n",
    "print(\"RMSE : % f\" %(rmse))"
   ]
  },
  {
   "cell_type": "code",
   "execution_count": 51,
   "id": "497153ac",
   "metadata": {},
   "outputs": [
    {
     "name": "stdout",
     "output_type": "stream",
     "text": [
      "RMSE :  4.264994\n"
     ]
    }
   ],
   "source": [
    "# Parameter dictionary specifying base learner\n",
    "param =  {  \n",
    "    'eta': 0.01,  \n",
    "    'max_depth': 6,  \n",
    "    'min_child_weight': 1,  \n",
    "\n",
    "    'objective': 'reg:squarederror',\n",
    "    'nthread': 8,\n",
    "\n",
    "    'seed': 1,\n",
    "    'verbosity': 1,\n",
    "}\n",
    "  \n",
    "xgb_r = xgb.train(params = param, dtrain = dtrain, num_boost_round = 100)\n",
    "pred = xgb_r.predict(dval)\n",
    "  \n",
    "# RMSE Computation\n",
    "rmse = mean_squared_error(pred,y_val,squared=False)\n",
    "print(\"RMSE : % f\" %(rmse))"
   ]
  },
  {
   "cell_type": "markdown",
   "id": "4346ab1f",
   "metadata": {},
   "source": [
    "> Answer eta 0.3"
   ]
  },
  {
   "cell_type": "code",
   "execution_count": null,
   "id": "01c23298",
   "metadata": {},
   "outputs": [],
   "source": []
  }
 ],
 "metadata": {
  "kernelspec": {
   "display_name": "Python 3 (ipykernel)",
   "language": "python",
   "name": "python3"
  },
  "language_info": {
   "codemirror_mode": {
    "name": "ipython",
    "version": 3
   },
   "file_extension": ".py",
   "mimetype": "text/x-python",
   "name": "python",
   "nbconvert_exporter": "python",
   "pygments_lexer": "ipython3",
   "version": "3.10.6"
  }
 },
 "nbformat": 4,
 "nbformat_minor": 5
}
